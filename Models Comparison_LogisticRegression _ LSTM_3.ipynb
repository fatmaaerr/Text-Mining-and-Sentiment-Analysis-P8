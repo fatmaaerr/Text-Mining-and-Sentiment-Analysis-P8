{
 "cells": [
  {
   "cell_type": "code",
   "execution_count": 1,
   "id": "eac04674",
   "metadata": {},
   "outputs": [],
   "source": [
    "import tensorflow as tf\n",
    "from tensorflow import keras"
   ]
  },
  {
   "cell_type": "code",
   "execution_count": 2,
   "id": "d8f99af1",
   "metadata": {},
   "outputs": [],
   "source": [
    "import pandas as pd\n",
    "import re\n",
    "import contractions\n",
    "import nltk\n",
    "from nltk.corpus import stopwords\n",
    "from nltk.tokenize import word_tokenize\n",
    "from sklearn.linear_model import LogisticRegression\n",
    "from sklearn.naive_bayes import MultinomialNB\n",
    "from sklearn.feature_extraction.text import CountVectorizer\n",
    "from sklearn.model_selection import train_test_split\n",
    "from sklearn.metrics import accuracy_score,classification_report,confusion_matrix\n",
    "from sklearn.pipeline import Pipeline\n",
    "import seaborn as sns\n",
    "import matplotlib.pyplot as plt\n",
    "from sklearn.metrics import f1_score\n",
    "from sklearn.metrics import recall_score\n",
    "from sklearn.metrics import precision_score"
   ]
  },
  {
   "cell_type": "code",
   "execution_count": 3,
   "id": "c5991b0b",
   "metadata": {},
   "outputs": [],
   "source": [
    "from keras.preprocessing.text import Tokenizer\n",
    "from tensorflow.keras.preprocessing import sequence\n",
    "from keras.models import Sequential\n",
    "from keras.layers import Dense, Embedding, LSTM, GRU, Bidirectional\n",
    "\n",
    "from gensim.models import Word2Vec\n",
    "\n",
    "from keras.callbacks import EarlyStopping\n",
    "from keras.models import load_model"
   ]
  },
  {
   "cell_type": "code",
   "execution_count": 4,
   "id": "726bf24f",
   "metadata": {},
   "outputs": [
    {
     "name": "stdout",
     "output_type": "stream",
     "text": [
      "Requirement already satisfied: tweet-preprocessor in c:\\users\\fatma.er\\anaconda3\\lib\\site-packages (0.6.0)\n"
     ]
    }
   ],
   "source": [
    "!pip install tweet-preprocessor "
   ]
  },
  {
   "cell_type": "code",
   "execution_count": 5,
   "id": "6f6d497a",
   "metadata": {},
   "outputs": [],
   "source": [
    "import preprocessor as p\n",
    "import numpy as np \n",
    "import pandas as pd \n",
    "import emoji\n",
    "import keras\n",
    "\n",
    "import tensorflow as tf\n",
    "from keras.models import Sequential\n",
    "\n",
    "\n",
    "\n",
    "#sklearn\n",
    "from sklearn.metrics import confusion_matrix, accuracy_score, classification_report\n",
    "from sklearn.model_selection import train_test_split\n",
    "from sklearn.preprocessing import LabelEncoder\n",
    "\n",
    "#from keras.layers.recurrent import LSTM, GRU,SimpleRNN \n",
    "from keras.layers import Dense, Embedding, LSTM, GRU, Bidirectional,SimpleRNN\n",
    "\n",
    "from keras.layers.core import Dense, Activation, Dropout\n",
    "#from keras.layers.embeddings import Embedding\n",
    "\n",
    "#importing  libraries\n",
    "#Keras\n",
    "import tensorflow.keras\n",
    "from tensorflow.keras import regularizers, layers\n",
    "from tensorflow.keras.preprocessing import sequence\n",
    "from tensorflow.keras.preprocessing.text import Tokenizer\n",
    "from tensorflow.keras.preprocessing.sequence import pad_sequences\n",
    "from tensorflow.keras.models import Sequential, Model, model_from_json\n",
    "from tensorflow.keras.layers import Dense, Embedding, LSTM\n",
    "from tensorflow.keras.layers import Input, Flatten, Dropout, Activation, BatchNormalization\n",
    "from tensorflow.keras.layers import Conv2D, MaxPooling2D, AveragePooling1D\n",
    "from tensorflow.keras.utils import to_categorical\n",
    "from tensorflow.keras.callbacks import ModelCheckpoint\n",
    "\n",
    "\n",
    "\n",
    "from keras.utils import np_utils\n",
    "from sklearn import preprocessing, decomposition, model_selection, metrics, pipeline\n",
    "from keras.layers import GlobalMaxPooling1D, Conv1D, MaxPooling1D, Flatten, Bidirectional, SpatialDropout1D\n",
    "from keras.preprocessing import sequence, text\n",
    "from keras.callbacks import EarlyStopping\n",
    "from sklearn.preprocessing import LabelEncoder,OneHotEncoder\n",
    "import plotly.graph_objects as go\n",
    "import plotly.express as px\n",
    "from tensorflow.keras.layers import Dense, Input\n",
    "from tensorflow.keras.optimizers import Adam\n",
    "from tensorflow.keras.models import Model\n",
    "from tensorflow.keras.callbacks import ModelCheckpoint\n",
    "#import transformers\n",
    "#from transformers import TFAutoModel, AutoTokenizer\n",
    "from tqdm.notebook import tqdm\n",
    "#from tokenizers import Tokenizer, models, pre_tokenizers, decoders, processors\n",
    "from tqdm import tqdm"
   ]
  },
  {
   "cell_type": "code",
   "execution_count": 6,
   "id": "cb641303",
   "metadata": {},
   "outputs": [],
   "source": [
    "## Save clean_df to csv file\n",
    "#clean_df.to_csv('clean_df.csv', index=False)\n",
    "Tweet_Dataset_model = pd.read_csv('Model_data.csv')"
   ]
  },
  {
   "cell_type": "code",
   "execution_count": 7,
   "id": "7388edde",
   "metadata": {},
   "outputs": [
    {
     "data": {
      "text/html": [
       "<div>\n",
       "<style scoped>\n",
       "    .dataframe tbody tr th:only-of-type {\n",
       "        vertical-align: middle;\n",
       "    }\n",
       "\n",
       "    .dataframe tbody tr th {\n",
       "        vertical-align: top;\n",
       "    }\n",
       "\n",
       "    .dataframe thead th {\n",
       "        text-align: right;\n",
       "    }\n",
       "</style>\n",
       "<table border=\"1\" class=\"dataframe\">\n",
       "  <thead>\n",
       "    <tr style=\"text-align: right;\">\n",
       "      <th></th>\n",
       "      <th>tweet_id</th>\n",
       "      <th>sentiment</th>\n",
       "      <th>content</th>\n",
       "      <th>content_token</th>\n",
       "      <th>synonym</th>\n",
       "      <th>clean_tweet</th>\n",
       "      <th>clean_tweet_token</th>\n",
       "    </tr>\n",
       "  </thead>\n",
       "  <tbody>\n",
       "    <tr>\n",
       "      <th>0</th>\n",
       "      <td>1.956968e+09</td>\n",
       "      <td>neutral</td>\n",
       "      <td>@dannycastillo We want to trade with someone w...</td>\n",
       "      <td>['want', 'trade', 'someone', 'houston', 'ticke...</td>\n",
       "      <td>[['privation', 'want', 'deprivation', 'needine...</td>\n",
       "      <td>want trade someone houston ticket one</td>\n",
       "      <td>['want', 'trade', 'someone', 'houston', 'ticke...</td>\n",
       "    </tr>\n",
       "    <tr>\n",
       "      <th>1</th>\n",
       "      <td>1.956969e+09</td>\n",
       "      <td>neutral</td>\n",
       "      <td>cant fall asleep</td>\n",
       "      <td>['cant', 'fall', 'asleep']</td>\n",
       "      <td>[['buzzword', 'cant', 'bank', 'cant', 'camber'...</td>\n",
       "      <td>cant fall asleep</td>\n",
       "      <td>['cant', 'fall', 'asleep']</td>\n",
       "    </tr>\n",
       "    <tr>\n",
       "      <th>2</th>\n",
       "      <td>1.956972e+09</td>\n",
       "      <td>neutral</td>\n",
       "      <td>No Topic Maps talks at the Balisage Markup Con...</td>\n",
       "      <td>['topic', 'map', 'talk', 'balisage', 'markup',...</td>\n",
       "      <td>[['subject', 'topic', 'theme', 'topic', 'subje...</td>\n",
       "      <td>topic map talk balisage markup conference prog...</td>\n",
       "      <td>['topic', 'map', 'talk', 'balisage', 'markup',...</td>\n",
       "    </tr>\n",
       "    <tr>\n",
       "      <th>3</th>\n",
       "      <td>1.956975e+09</td>\n",
       "      <td>neutral</td>\n",
       "      <td>@cynthia_123 i cant sleep</td>\n",
       "      <td>['cant', 'sleep']</td>\n",
       "      <td>[['buzzword', 'cant', 'bank', 'cant', 'camber'...</td>\n",
       "      <td>cant sleep</td>\n",
       "      <td>['cant', 'sleep']</td>\n",
       "    </tr>\n",
       "    <tr>\n",
       "      <th>4</th>\n",
       "      <td>1.956976e+09</td>\n",
       "      <td>neutral</td>\n",
       "      <td>I missed the bl***y bus!!!!!!!!</td>\n",
       "      <td>['missed', 'bly', 'bus']</td>\n",
       "      <td>[['miss', 'lose', 'miss', 'miss', 'neglect', '...</td>\n",
       "      <td>missed bl bus</td>\n",
       "      <td>['missed', 'bl', 'bus']</td>\n",
       "    </tr>\n",
       "  </tbody>\n",
       "</table>\n",
       "</div>"
      ],
      "text/plain": [
       "       tweet_id sentiment                                            content  \\\n",
       "0  1.956968e+09   neutral  @dannycastillo We want to trade with someone w...   \n",
       "1  1.956969e+09   neutral                                   cant fall asleep   \n",
       "2  1.956972e+09   neutral  No Topic Maps talks at the Balisage Markup Con...   \n",
       "3  1.956975e+09   neutral                          @cynthia_123 i cant sleep   \n",
       "4  1.956976e+09   neutral                    I missed the bl***y bus!!!!!!!!   \n",
       "\n",
       "                                       content_token  \\\n",
       "0  ['want', 'trade', 'someone', 'houston', 'ticke...   \n",
       "1                         ['cant', 'fall', 'asleep']   \n",
       "2  ['topic', 'map', 'talk', 'balisage', 'markup',...   \n",
       "3                                  ['cant', 'sleep']   \n",
       "4                           ['missed', 'bly', 'bus']   \n",
       "\n",
       "                                             synonym  \\\n",
       "0  [['privation', 'want', 'deprivation', 'needine...   \n",
       "1  [['buzzword', 'cant', 'bank', 'cant', 'camber'...   \n",
       "2  [['subject', 'topic', 'theme', 'topic', 'subje...   \n",
       "3  [['buzzword', 'cant', 'bank', 'cant', 'camber'...   \n",
       "4  [['miss', 'lose', 'miss', 'miss', 'neglect', '...   \n",
       "\n",
       "                                         clean_tweet  \\\n",
       "0              want trade someone houston ticket one   \n",
       "1                                   cant fall asleep   \n",
       "2  topic map talk balisage markup conference prog...   \n",
       "3                                         cant sleep   \n",
       "4                                      missed bl bus   \n",
       "\n",
       "                                   clean_tweet_token  \n",
       "0  ['want', 'trade', 'someone', 'houston', 'ticke...  \n",
       "1                         ['cant', 'fall', 'asleep']  \n",
       "2  ['topic', 'map', 'talk', 'balisage', 'markup',...  \n",
       "3                                  ['cant', 'sleep']  \n",
       "4                            ['missed', 'bl', 'bus']  "
      ]
     },
     "execution_count": 7,
     "metadata": {},
     "output_type": "execute_result"
    }
   ],
   "source": [
    "Tweet_Dataset_model.head()"
   ]
  },
  {
   "cell_type": "code",
   "execution_count": null,
   "id": "2faabe7a",
   "metadata": {},
   "outputs": [],
   "source": []
  },
  {
   "cell_type": "code",
   "execution_count": 8,
   "id": "8640d7fb",
   "metadata": {},
   "outputs": [
    {
     "name": "stdout",
     "output_type": "stream",
     "text": [
      "<class 'pandas.core.frame.DataFrame'>\n",
      "RangeIndex: 108628 entries, 0 to 108627\n",
      "Data columns (total 7 columns):\n",
      " #   Column             Non-Null Count   Dtype  \n",
      "---  ------             --------------   -----  \n",
      " 0   tweet_id           8356 non-null    float64\n",
      " 1   sentiment          108628 non-null  object \n",
      " 2   content            108628 non-null  object \n",
      " 3   content_token      8356 non-null    object \n",
      " 4   synonym            8356 non-null    object \n",
      " 5   clean_tweet        108391 non-null  object \n",
      " 6   clean_tweet_token  108628 non-null  object \n",
      "dtypes: float64(1), object(6)\n",
      "memory usage: 5.8+ MB\n"
     ]
    }
   ],
   "source": [
    "Tweet_Dataset_model.info()"
   ]
  },
  {
   "cell_type": "code",
   "execution_count": 9,
   "id": "1e4a8e5a",
   "metadata": {},
   "outputs": [
    {
     "data": {
      "text/plain": [
       "tweet_id             100272\n",
       "sentiment                 0\n",
       "content                   0\n",
       "content_token        100272\n",
       "synonym              100272\n",
       "clean_tweet             237\n",
       "clean_tweet_token         0\n",
       "dtype: int64"
      ]
     },
     "execution_count": 9,
     "metadata": {},
     "output_type": "execute_result"
    }
   ],
   "source": [
    "Tweet_Dataset_model.isnull().sum()"
   ]
  },
  {
   "cell_type": "code",
   "execution_count": 10,
   "id": "564a63a1",
   "metadata": {},
   "outputs": [],
   "source": [
    "Tweet_Dataset_model = Tweet_Dataset_model[Tweet_Dataset_model['clean_tweet'].notna()]"
   ]
  },
  {
   "cell_type": "code",
   "execution_count": 11,
   "id": "9badc91e",
   "metadata": {},
   "outputs": [
    {
     "data": {
      "text/plain": [
       "boredom       8356\n",
       "anger         8356\n",
       "relief        8353\n",
       "happiness     8352\n",
       "fun           8352\n",
       "love          8351\n",
       "sadness       8349\n",
       "hate          8344\n",
       "enthusiasm    8343\n",
       "worry         8335\n",
       "surprise      8324\n",
       "empty         8294\n",
       "neutral       8282\n",
       "Name: sentiment, dtype: int64"
      ]
     },
     "execution_count": 11,
     "metadata": {},
     "output_type": "execute_result"
    }
   ],
   "source": [
    "Tweet_Dataset_model[\"sentiment\"].value_counts()"
   ]
  },
  {
   "cell_type": "code",
   "execution_count": 12,
   "id": "70ce511a",
   "metadata": {},
   "outputs": [],
   "source": [
    "sent_to_id  = {\"empty\":0, \"sadness\":1,\"enthusiasm\":2,\"neutral\":3,\"worry\":4,\n",
    "                        \"surprise\":5,\"love\":6,\"fun\":7,\"hate\":8,\"happiness\":9,\"boredom\":10,\"relief\":11,\"anger\":12}"
   ]
  },
  {
   "cell_type": "code",
   "execution_count": 13,
   "id": "d3fc6d15",
   "metadata": {},
   "outputs": [],
   "source": [
    "Tweet_Dataset_model[\"sentiment_id\"] = Tweet_Dataset_model['sentiment'].map(sent_to_id)"
   ]
  },
  {
   "cell_type": "code",
   "execution_count": 14,
   "id": "0f955cfe",
   "metadata": {},
   "outputs": [
    {
     "data": {
      "text/html": [
       "<div>\n",
       "<style scoped>\n",
       "    .dataframe tbody tr th:only-of-type {\n",
       "        vertical-align: middle;\n",
       "    }\n",
       "\n",
       "    .dataframe tbody tr th {\n",
       "        vertical-align: top;\n",
       "    }\n",
       "\n",
       "    .dataframe thead th {\n",
       "        text-align: right;\n",
       "    }\n",
       "</style>\n",
       "<table border=\"1\" class=\"dataframe\">\n",
       "  <thead>\n",
       "    <tr style=\"text-align: right;\">\n",
       "      <th></th>\n",
       "      <th>tweet_id</th>\n",
       "      <th>sentiment</th>\n",
       "      <th>content</th>\n",
       "      <th>content_token</th>\n",
       "      <th>synonym</th>\n",
       "      <th>clean_tweet</th>\n",
       "      <th>clean_tweet_token</th>\n",
       "      <th>sentiment_id</th>\n",
       "    </tr>\n",
       "  </thead>\n",
       "  <tbody>\n",
       "    <tr>\n",
       "      <th>0</th>\n",
       "      <td>1.956968e+09</td>\n",
       "      <td>neutral</td>\n",
       "      <td>@dannycastillo We want to trade with someone w...</td>\n",
       "      <td>['want', 'trade', 'someone', 'houston', 'ticke...</td>\n",
       "      <td>[['privation', 'want', 'deprivation', 'needine...</td>\n",
       "      <td>want trade someone houston ticket one</td>\n",
       "      <td>['want', 'trade', 'someone', 'houston', 'ticke...</td>\n",
       "      <td>3</td>\n",
       "    </tr>\n",
       "    <tr>\n",
       "      <th>1</th>\n",
       "      <td>1.956969e+09</td>\n",
       "      <td>neutral</td>\n",
       "      <td>cant fall asleep</td>\n",
       "      <td>['cant', 'fall', 'asleep']</td>\n",
       "      <td>[['buzzword', 'cant', 'bank', 'cant', 'camber'...</td>\n",
       "      <td>cant fall asleep</td>\n",
       "      <td>['cant', 'fall', 'asleep']</td>\n",
       "      <td>3</td>\n",
       "    </tr>\n",
       "    <tr>\n",
       "      <th>2</th>\n",
       "      <td>1.956972e+09</td>\n",
       "      <td>neutral</td>\n",
       "      <td>No Topic Maps talks at the Balisage Markup Con...</td>\n",
       "      <td>['topic', 'map', 'talk', 'balisage', 'markup',...</td>\n",
       "      <td>[['subject', 'topic', 'theme', 'topic', 'subje...</td>\n",
       "      <td>topic map talk balisage markup conference prog...</td>\n",
       "      <td>['topic', 'map', 'talk', 'balisage', 'markup',...</td>\n",
       "      <td>3</td>\n",
       "    </tr>\n",
       "    <tr>\n",
       "      <th>3</th>\n",
       "      <td>1.956975e+09</td>\n",
       "      <td>neutral</td>\n",
       "      <td>@cynthia_123 i cant sleep</td>\n",
       "      <td>['cant', 'sleep']</td>\n",
       "      <td>[['buzzword', 'cant', 'bank', 'cant', 'camber'...</td>\n",
       "      <td>cant sleep</td>\n",
       "      <td>['cant', 'sleep']</td>\n",
       "      <td>3</td>\n",
       "    </tr>\n",
       "    <tr>\n",
       "      <th>4</th>\n",
       "      <td>1.956976e+09</td>\n",
       "      <td>neutral</td>\n",
       "      <td>I missed the bl***y bus!!!!!!!!</td>\n",
       "      <td>['missed', 'bly', 'bus']</td>\n",
       "      <td>[['miss', 'lose', 'miss', 'miss', 'neglect', '...</td>\n",
       "      <td>missed bl bus</td>\n",
       "      <td>['missed', 'bl', 'bus']</td>\n",
       "      <td>3</td>\n",
       "    </tr>\n",
       "  </tbody>\n",
       "</table>\n",
       "</div>"
      ],
      "text/plain": [
       "       tweet_id sentiment                                            content  \\\n",
       "0  1.956968e+09   neutral  @dannycastillo We want to trade with someone w...   \n",
       "1  1.956969e+09   neutral                                   cant fall asleep   \n",
       "2  1.956972e+09   neutral  No Topic Maps talks at the Balisage Markup Con...   \n",
       "3  1.956975e+09   neutral                          @cynthia_123 i cant sleep   \n",
       "4  1.956976e+09   neutral                    I missed the bl***y bus!!!!!!!!   \n",
       "\n",
       "                                       content_token  \\\n",
       "0  ['want', 'trade', 'someone', 'houston', 'ticke...   \n",
       "1                         ['cant', 'fall', 'asleep']   \n",
       "2  ['topic', 'map', 'talk', 'balisage', 'markup',...   \n",
       "3                                  ['cant', 'sleep']   \n",
       "4                           ['missed', 'bly', 'bus']   \n",
       "\n",
       "                                             synonym  \\\n",
       "0  [['privation', 'want', 'deprivation', 'needine...   \n",
       "1  [['buzzword', 'cant', 'bank', 'cant', 'camber'...   \n",
       "2  [['subject', 'topic', 'theme', 'topic', 'subje...   \n",
       "3  [['buzzword', 'cant', 'bank', 'cant', 'camber'...   \n",
       "4  [['miss', 'lose', 'miss', 'miss', 'neglect', '...   \n",
       "\n",
       "                                         clean_tweet  \\\n",
       "0              want trade someone houston ticket one   \n",
       "1                                   cant fall asleep   \n",
       "2  topic map talk balisage markup conference prog...   \n",
       "3                                         cant sleep   \n",
       "4                                      missed bl bus   \n",
       "\n",
       "                                   clean_tweet_token  sentiment_id  \n",
       "0  ['want', 'trade', 'someone', 'houston', 'ticke...             3  \n",
       "1                         ['cant', 'fall', 'asleep']             3  \n",
       "2  ['topic', 'map', 'talk', 'balisage', 'markup',...             3  \n",
       "3                                  ['cant', 'sleep']             3  \n",
       "4                            ['missed', 'bl', 'bus']             3  "
      ]
     },
     "execution_count": 14,
     "metadata": {},
     "output_type": "execute_result"
    }
   ],
   "source": [
    "Tweet_Dataset_model.head()"
   ]
  },
  {
   "cell_type": "code",
   "execution_count": 87,
   "id": "23c1f7da",
   "metadata": {},
   "outputs": [],
   "source": [
    "x=Tweet_Dataset_model[\"clean_tweet\"]\n",
    "#y=Tweet_Dataset_model[\"sentiment\"]\n",
    "y=Tweet_Dataset_model[\"sentiment_id\"]"
   ]
  },
  {
   "cell_type": "code",
   "execution_count": 88,
   "id": "082fc9a2",
   "metadata": {},
   "outputs": [
    {
     "data": {
      "text/plain": [
       "0                     want trade someone houston ticket one\n",
       "1                                          cant fall asleep\n",
       "2         topic map talk balisage markup conference prog...\n",
       "3                                                cant sleep\n",
       "4                                             missed bl bus\n",
       "                                ...                        \n",
       "108623    historic jesus time exist im witness hard prov...\n",
       "108624      ack interpret testify horrible accounting taste\n",
       "108625    ne er anything dear cultivate lapin life histo...\n",
       "108626                         link ff quot work quot broke\n",
       "108627              live begin retrieve solarise blcok haox\n",
       "Name: clean_tweet, Length: 108391, dtype: object"
      ]
     },
     "execution_count": 88,
     "metadata": {},
     "output_type": "execute_result"
    }
   ],
   "source": [
    "x"
   ]
  },
  {
   "cell_type": "code",
   "execution_count": 89,
   "id": "58551eb8",
   "metadata": {},
   "outputs": [
    {
     "data": {
      "text/plain": [
       "0          3\n",
       "1          3\n",
       "2          3\n",
       "3          3\n",
       "4          3\n",
       "          ..\n",
       "108623    12\n",
       "108624    12\n",
       "108625    12\n",
       "108626    12\n",
       "108627    12\n",
       "Name: sentiment_id, Length: 108391, dtype: int64"
      ]
     },
     "execution_count": 89,
     "metadata": {},
     "output_type": "execute_result"
    }
   ],
   "source": [
    "y"
   ]
  },
  {
   "cell_type": "code",
   "execution_count": 90,
   "id": "bbe27420",
   "metadata": {},
   "outputs": [
    {
     "name": "stdout",
     "output_type": "stream",
     "text": [
      "x Shape : (108391,)\n",
      "Y shape : (108391,)\n"
     ]
    }
   ],
   "source": [
    "print(\"x Shape : {}\".format(x.shape))\n",
    "print(\"Y shape : {}\".format(y.shape))"
   ]
  },
  {
   "cell_type": "markdown",
   "id": "a39d1ee4",
   "metadata": {},
   "source": [
    "# LogisticRegression"
   ]
  },
  {
   "cell_type": "code",
   "execution_count": 91,
   "id": "3e5a958f",
   "metadata": {},
   "outputs": [
    {
     "data": {
      "text/plain": [
       "104621    oh countenance clarify know lot nice citizenry...\n",
       "36164                   hanging megan brook best girl world\n",
       "96726                  today boring harry potter around ftw\n",
       "26722                                       live pain bring\n",
       "37939                                        awesome hallow\n",
       "                                ...                        \n",
       "39136     know get nicholas braun amp cerebrate take shi...\n",
       "15819                             greg back top love nascar\n",
       "49609                                 raj list scoop bandit\n",
       "19054                          paycheck nothing piece paper\n",
       "71306               wherefore ne er resolve wath single say\n",
       "Name: clean_tweet, Length: 21679, dtype: object"
      ]
     },
     "execution_count": 91,
     "metadata": {},
     "output_type": "execute_result"
    }
   ],
   "source": [
    "X_train,X_test,y_train,y_test=train_test_split(x,y,test_size=0.2,random_state=40)\n",
    "X_test"
   ]
  },
  {
   "cell_type": "code",
   "execution_count": 92,
   "id": "90934113",
   "metadata": {},
   "outputs": [
    {
     "data": {
      "text/plain": [
       "((86712,), (21679,), (86712,), (21679,))"
      ]
     },
     "execution_count": 92,
     "metadata": {},
     "output_type": "execute_result"
    }
   ],
   "source": [
    "X_train.shape, X_test.shape, y_train.shape, y_test.shape"
   ]
  },
  {
   "cell_type": "code",
   "execution_count": 93,
   "id": "8476f762",
   "metadata": {},
   "outputs": [],
   "source": [
    "pipe_lr = Pipeline(steps=[('cv',CountVectorizer()),('lr',LogisticRegression())])"
   ]
  },
  {
   "cell_type": "code",
   "execution_count": 94,
   "id": "e2af606f",
   "metadata": {},
   "outputs": [
    {
     "name": "stderr",
     "output_type": "stream",
     "text": [
      "C:\\Users\\fatma.er\\Anaconda3\\lib\\site-packages\\sklearn\\linear_model\\_logistic.py:814: ConvergenceWarning: lbfgs failed to converge (status=1):\n",
      "STOP: TOTAL NO. of ITERATIONS REACHED LIMIT.\n",
      "\n",
      "Increase the number of iterations (max_iter) or scale the data as shown in:\n",
      "    https://scikit-learn.org/stable/modules/preprocessing.html\n",
      "Please also refer to the documentation for alternative solver options:\n",
      "    https://scikit-learn.org/stable/modules/linear_model.html#logistic-regression\n",
      "  n_iter_i = _check_optimize_result(\n"
     ]
    },
    {
     "data": {
      "text/plain": [
       "Pipeline(steps=[('cv', CountVectorizer()), ('lr', LogisticRegression())])"
      ]
     },
     "execution_count": 94,
     "metadata": {},
     "output_type": "execute_result"
    }
   ],
   "source": [
    "pipe_lr.fit(X_train,y_train)"
   ]
  },
  {
   "cell_type": "code",
   "execution_count": 95,
   "id": "6f080a91",
   "metadata": {},
   "outputs": [
    {
     "data": {
      "text/plain": [
       "0.802841590552634"
      ]
     },
     "execution_count": 95,
     "metadata": {},
     "output_type": "execute_result"
    }
   ],
   "source": [
    "pipe_lr.score(X_train,y_train)"
   ]
  },
  {
   "cell_type": "code",
   "execution_count": 96,
   "id": "7730681b",
   "metadata": {},
   "outputs": [
    {
     "data": {
      "text/plain": [
       "0.6102680012915724"
      ]
     },
     "execution_count": 96,
     "metadata": {},
     "output_type": "execute_result"
    }
   ],
   "source": [
    "pipe_lr.score(X_test,y_test)"
   ]
  },
  {
   "cell_type": "code",
   "execution_count": 97,
   "id": "b71c7ab5",
   "metadata": {},
   "outputs": [],
   "source": [
    "alg_predictions= pipe_lr.predict(X_test)"
   ]
  },
  {
   "cell_type": "code",
   "execution_count": 98,
   "id": "51c1b71b",
   "metadata": {},
   "outputs": [
    {
     "data": {
      "text/plain": [
       "104621    12\n",
       "36164      6\n",
       "96726     10\n",
       "26722      9\n",
       "37939      6\n",
       "          ..\n",
       "39136      6\n",
       "15819      4\n",
       "49609      5\n",
       "19054      1\n",
       "71306      8\n",
       "Name: sentiment_id, Length: 21679, dtype: int64"
      ]
     },
     "execution_count": 98,
     "metadata": {},
     "output_type": "execute_result"
    }
   ],
   "source": [
    "y_test"
   ]
  },
  {
   "cell_type": "code",
   "execution_count": 99,
   "id": "b9434161",
   "metadata": {},
   "outputs": [
    {
     "data": {
      "text/plain": [
       "array([12,  6, 10, ...,  5, 11,  8], dtype=int64)"
      ]
     },
     "execution_count": 99,
     "metadata": {},
     "output_type": "execute_result"
    }
   ],
   "source": [
    "alg_predictions "
   ]
  },
  {
   "cell_type": "code",
   "execution_count": 101,
   "id": "5f931a98",
   "metadata": {},
   "outputs": [
    {
     "data": {
      "text/plain": [
       "array([[1297,   35,   34,  102,   29,   40,   17,   27,   30,   23,   28,\n",
       "          44,    3],\n",
       "       [  72,  562,   52,  201,  266,  100,   66,   63,  120,   80,   34,\n",
       "          53,   18],\n",
       "       [  29,   44, 1271,   80,   24,   31,   26,   36,   10,   40,   11,\n",
       "          48,    6],\n",
       "       [  83,  115,   37,  644,  248,   70,   89,   63,   33,  153,   14,\n",
       "          53,   13],\n",
       "       [  61,  286,   41,  346,  512,   75,   63,   59,   65,  103,   14,\n",
       "          47,   10],\n",
       "       [  68,   79,   59,  156,   77,  825,   81,   74,   53,   84,   20,\n",
       "          58,   16],\n",
       "       [  36,   55,   58,  114,   76,   70,  847,   87,   36,  182,   11,\n",
       "          99,   10],\n",
       "       [  54,   22,   41,   87,   63,   58,   52, 1058,   24,  121,   16,\n",
       "          47,    3],\n",
       "       [  55,   64,   24,   44,   58,   50,    6,   26, 1216,   18,   12,\n",
       "          25,    7],\n",
       "       [  54,   51,   73,  189,  107,   95,  190,  143,   19,  638,   10,\n",
       "          97,    6],\n",
       "       [   9,    9,    5,    9,    4,    4,    7,    2,    7,    1, 1616,\n",
       "           9,    0],\n",
       "       [  55,   34,   49,   97,   64,   43,   73,   66,   32,  112,   11,\n",
       "        1030,    5],\n",
       "       [   0,    1,    0,    2,    0,    0,    1,    1,    0,    0,    1,\n",
       "           3, 1714]], dtype=int64)"
      ]
     },
     "execution_count": 101,
     "metadata": {},
     "output_type": "execute_result"
    }
   ],
   "source": [
    "from sklearn.metrics import confusion_matrix,f1_score\n",
    "confusion_matrix(y_test,alg_predictions)"
   ]
  },
  {
   "cell_type": "markdown",
   "id": "26073430",
   "metadata": {},
   "source": [
    "# LTSM"
   ]
  },
  {
   "cell_type": "code",
   "execution_count": 26,
   "id": "57d6c670",
   "metadata": {},
   "outputs": [],
   "source": [
    "label_encoder = LabelEncoder()\n",
    "integer_encoded = label_encoder.fit_transform(Tweet_Dataset_model[\"sentiment_id\"] )\n",
    "\n",
    "onehot_encoder = OneHotEncoder(sparse=False)\n",
    "integer_encoded = integer_encoded.reshape(len(integer_encoded), 1)\n",
    "Y = onehot_encoder.fit_transform(integer_encoded)"
   ]
  },
  {
   "cell_type": "code",
   "execution_count": 27,
   "id": "8a22cb8f",
   "metadata": {},
   "outputs": [],
   "source": [
    "X_train, X_test, y_train, y_test = train_test_split(Tweet_Dataset_model.clean_tweet,Y, random_state=40, test_size=0.2, shuffle=True)"
   ]
  },
  {
   "cell_type": "code",
   "execution_count": 28,
   "id": "ee7b7887",
   "metadata": {},
   "outputs": [],
   "source": [
    "\n",
    "\n",
    "from tensorflow.keras.preprocessing.sequence import pad_sequences"
   ]
  },
  {
   "cell_type": "code",
   "execution_count": 29,
   "id": "81085d78",
   "metadata": {},
   "outputs": [],
   "source": [
    "# using keras tokenizer here\n",
    "token = text.Tokenizer(num_words=None)\n",
    "max_len = 160\n",
    "Epoch = 5\n",
    "token.fit_on_texts(list(X_train) + list(X_test))\n",
    "X_train_pad = pad_sequences(token.texts_to_sequences(X_train), maxlen=max_len)\n",
    "X_test_pad = pad_sequences(token.texts_to_sequences(X_test), maxlen=max_len)"
   ]
  },
  {
   "cell_type": "code",
   "execution_count": null,
   "id": "2ccefa88",
   "metadata": {},
   "outputs": [],
   "source": []
  },
  {
   "cell_type": "code",
   "execution_count": 30,
   "id": "06700e28",
   "metadata": {},
   "outputs": [],
   "source": [
    "w_idx = token.word_index"
   ]
  },
  {
   "cell_type": "code",
   "execution_count": 31,
   "id": "822575b6",
   "metadata": {},
   "outputs": [
    {
     "name": "stdout",
     "output_type": "stream",
     "text": [
      "Model: \"sequential\"\n",
      "_________________________________________________________________\n",
      " Layer (type)                Output Shape              Param #   \n",
      "=================================================================\n",
      " embedding (Embedding)       (None, 160, 160)          5269760   \n",
      "                                                                 \n",
      " spatial_dropout1d (SpatialD  (None, 160, 160)         0         \n",
      " ropout1D)                                                       \n",
      "                                                                 \n",
      " lstm (LSTM)                 (None, 250)               411000    \n",
      "                                                                 \n",
      " dense (Dense)               (None, 13)                3263      \n",
      "                                                                 \n",
      "=================================================================\n",
      "Total params: 5,684,023\n",
      "Trainable params: 5,684,023\n",
      "Non-trainable params: 0\n",
      "_________________________________________________________________\n",
      "None\n"
     ]
    }
   ],
   "source": [
    "embed_dim = 160\n",
    "lstm_out = 250\n",
    "\n",
    "model = Sequential()\n",
    "model.add(Embedding(len(w_idx) +1 , embed_dim,input_length = X_test_pad.shape[1]))\n",
    "model.add(SpatialDropout1D(0.2))\n",
    "model.add(LSTM(lstm_out, dropout=0.2, recurrent_dropout=0.2))\n",
    "model.add(keras.layers.core.Dense(13, activation='softmax'))\n",
    "#adam rmsprop \n",
    "model.compile(loss = \"categorical_crossentropy\", optimizer='adam',metrics = ['accuracy'])\n",
    "print(model.summary())\n",
    "\n"
   ]
  },
  {
   "cell_type": "code",
   "execution_count": 32,
   "id": "b7cdabe6",
   "metadata": {},
   "outputs": [
    {
     "name": "stdout",
     "output_type": "stream",
     "text": [
      "678/678 [==============================] - 85s 125ms/step - loss: 2.5650 - accuracy: 0.0774\n",
      "Pre-training accuracy: 7.7356%\n"
     ]
    }
   ],
   "source": [
    "# Calculate pre-training accuracy \n",
    "score = model.evaluate(X_test_pad, y_test, verbose=1)\n",
    "accuracy = 100*score[1]\n",
    "\n",
    "print(\"Pre-training accuracy: %.4f%%\" % accuracy) "
   ]
  },
  {
   "cell_type": "code",
   "execution_count": 33,
   "id": "8792bbde",
   "metadata": {},
   "outputs": [],
   "source": [
    "batch_size = 32"
   ]
  },
  {
   "cell_type": "code",
   "execution_count": 34,
   "id": "60a2169b",
   "metadata": {},
   "outputs": [
    {
     "name": "stdout",
     "output_type": "stream",
     "text": [
      "Epoch 1/5\n",
      "2710/2710 [==============================] - 3037s 1s/step - loss: 1.6908 - accuracy: 0.4304 - val_loss: 1.2587 - val_accuracy: 0.5783\n",
      "Epoch 2/5\n",
      "2710/2710 [==============================] - 2799s 1s/step - loss: 0.9945 - accuracy: 0.6638 - val_loss: 1.0711 - val_accuracy: 0.6375\n",
      "Epoch 3/5\n",
      "2710/2710 [==============================] - 2393s 883ms/step - loss: 0.7106 - accuracy: 0.7588 - val_loss: 1.0055 - val_accuracy: 0.6703\n",
      "Epoch 4/5\n",
      "2710/2710 [==============================] - 2300s 849ms/step - loss: 0.5431 - accuracy: 0.8166 - val_loss: 1.0433 - val_accuracy: 0.6772\n",
      "Epoch 5/5\n",
      "2710/2710 [==============================] - 2447s 903ms/step - loss: 0.4361 - accuracy: 0.8507 - val_loss: 1.0623 - val_accuracy: 0.6923\n"
     ]
    }
   ],
   "source": [
    "model_all=model.fit(X_train_pad, y_train, epochs = Epoch, batch_size=batch_size,validation_data=(X_test_pad, y_test))\n"
   ]
  },
  {
   "cell_type": "code",
   "execution_count": 35,
   "id": "2053db00",
   "metadata": {},
   "outputs": [
    {
     "name": "stdout",
     "output_type": "stream",
     "text": [
      "Training Accuracy:  0.9110503792762756\n",
      "Testing Accuracy:  0.6922828555107117\n"
     ]
    }
   ],
   "source": [
    "score = model.evaluate(X_train_pad, y_train, verbose=0)\n",
    "print(\"Training Accuracy: \", score[1])\n",
    "\n",
    "score = model.evaluate(X_test_pad, y_test, verbose=0)\n",
    "print(\"Testing Accuracy: \", score[1])"
   ]
  },
  {
   "cell_type": "code",
   "execution_count": 36,
   "id": "1410b3d5",
   "metadata": {},
   "outputs": [
    {
     "name": "stdout",
     "output_type": "stream",
     "text": [
      "0.6922828555107117\n"
     ]
    }
   ],
   "source": [
    "test_accuracy=model.evaluate(X_test_pad,y_test,verbose=0)\n",
    "print(test_accuracy[1])"
   ]
  },
  {
   "cell_type": "code",
   "execution_count": 37,
   "id": "07f90d3f",
   "metadata": {},
   "outputs": [
    {
     "name": "stdout",
     "output_type": "stream",
     "text": [
      "678/678 [==============================] - 81s 119ms/step\n",
      "[12  1 10 ...  5 11  8]\n"
     ]
    }
   ],
   "source": [
    "#model.predict_classes(X_test)\n",
    "predict_x=model.predict(X_test_pad) \n",
    "classes_x=np.argmax(predict_x,axis=1)\n",
    "print(classes_x)"
   ]
  },
  {
   "cell_type": "code",
   "execution_count": 38,
   "id": "08d4753d",
   "metadata": {},
   "outputs": [
    {
     "data": {
      "image/png": "[encoded data removed]",
      "text/plain": [
       "<Figure size 1600x600 with 2 Axes>"
      ]
     },
     "metadata": {},
     "output_type": "display_data"
    }
   ],
   "source": [
    "def show_history(model_all):\n",
    "    epochs_trained = len(model_all.history['loss'])\n",
    "    plt.figure(figsize=(16, 6))\n",
    "\n",
    "    plt.subplot(1, 2, 1)\n",
    "    plt.plot(range(0, epochs_trained), model_all.history.get('accuracy'), label='Training')\n",
    "    plt.plot(range(0, epochs_trained), model_all.history.get('val_accuracy'), label='Validation')\n",
    "    plt.ylim([0., 1.])\n",
    "    plt.xlabel('Epochs')\n",
    "    plt.ylabel('Accuracy')\n",
    "    plt.legend()\n",
    "\n",
    "    plt.subplot(1, 2, 2)\n",
    "    plt.plot(range(0, epochs_trained), model_all.history.get('loss'), label='Training')\n",
    "    plt.plot(range(0, epochs_trained), model_all.history.get('val_loss'), label='Validation')\n",
    "    plt.xlabel('Epochs')\n",
    "    plt.ylabel('Loss')\n",
    "    plt.legend()\n",
    "    plt.show()\n",
    "\n",
    "show_history(model_all)"
   ]
  },
  {
   "cell_type": "code",
   "execution_count": 66,
   "id": "8d395f6a",
   "metadata": {},
   "outputs": [
    {
     "data": {
      "text/html": [
       "<div>\n",
       "<style scoped>\n",
       "    .dataframe tbody tr th:only-of-type {\n",
       "        vertical-align: middle;\n",
       "    }\n",
       "\n",
       "    .dataframe tbody tr th {\n",
       "        vertical-align: top;\n",
       "    }\n",
       "\n",
       "    .dataframe thead th {\n",
       "        text-align: right;\n",
       "    }\n",
       "</style>\n",
       "<table border=\"1\" class=\"dataframe\">\n",
       "  <thead>\n",
       "    <tr style=\"text-align: right;\">\n",
       "      <th></th>\n",
       "      <th>loss</th>\n",
       "      <th>accuracy</th>\n",
       "      <th>val_loss</th>\n",
       "      <th>val_accuracy</th>\n",
       "    </tr>\n",
       "  </thead>\n",
       "  <tbody>\n",
       "    <tr>\n",
       "      <th>0</th>\n",
       "      <td>1.690779</td>\n",
       "      <td>0.430356</td>\n",
       "      <td>1.258674</td>\n",
       "      <td>0.578302</td>\n",
       "    </tr>\n",
       "    <tr>\n",
       "      <th>1</th>\n",
       "      <td>0.994498</td>\n",
       "      <td>0.663830</td>\n",
       "      <td>1.071131</td>\n",
       "      <td>0.637529</td>\n",
       "    </tr>\n",
       "    <tr>\n",
       "      <th>2</th>\n",
       "      <td>0.710577</td>\n",
       "      <td>0.758834</td>\n",
       "      <td>1.005460</td>\n",
       "      <td>0.670280</td>\n",
       "    </tr>\n",
       "    <tr>\n",
       "      <th>3</th>\n",
       "      <td>0.543106</td>\n",
       "      <td>0.816634</td>\n",
       "      <td>1.043287</td>\n",
       "      <td>0.677245</td>\n",
       "    </tr>\n",
       "    <tr>\n",
       "      <th>4</th>\n",
       "      <td>0.436129</td>\n",
       "      <td>0.850655</td>\n",
       "      <td>1.062278</td>\n",
       "      <td>0.692283</td>\n",
       "    </tr>\n",
       "  </tbody>\n",
       "</table>\n",
       "</div>"
      ],
      "text/plain": [
       "       loss  accuracy  val_loss  val_accuracy\n",
       "0  1.690779  0.430356  1.258674      0.578302\n",
       "1  0.994498  0.663830  1.071131      0.637529\n",
       "2  0.710577  0.758834  1.005460      0.670280\n",
       "3  0.543106  0.816634  1.043287      0.677245\n",
       "4  0.436129  0.850655  1.062278      0.692283"
      ]
     },
     "execution_count": 66,
     "metadata": {},
     "output_type": "execute_result"
    }
   ],
   "source": [
    "train_hist = pd.DataFrame(model_all.history)\n",
    "train_hist"
   ]
  },
  {
   "cell_type": "code",
   "execution_count": 67,
   "id": "161133f1",
   "metadata": {},
   "outputs": [
    {
     "data": {
      "image/png": "[encoded data removed]",
      "text/plain": [
       "<Figure size 2000x800 with 1 Axes>"
      ]
     },
     "metadata": {},
     "output_type": "display_data"
    },
    {
     "data": {
      "image/png": "[encoded data removed]",
      "text/plain": [
       "<Figure size 2000x800 with 1 Axes>"
      ]
     },
     "metadata": {},
     "output_type": "display_data"
    }
   ],
   "source": [
    "plt.figure(figsize=(20,8))\n",
    "plt.plot(train_hist[['loss','val_loss']])\n",
    "plt.legend(['Loss','Test Loss'])\n",
    "plt.title('Model Loss')\n",
    "plt.xlabel('Epochs')\n",
    "plt.ylabel('Loss')\n",
    "plt.show()\n",
    "\n",
    "plt.figure(figsize=(20,8))\n",
    "plt.plot(train_hist[['accuracy','val_accuracy']])\n",
    "plt.legend(['Train Accuracy','Test Accuracy'])\n",
    "plt.title('Model Accuracy')\n",
    "plt.xlabel('Epochs')\n",
    "plt.ylabel('Accuracy')\n",
    "plt.show()"
   ]
  },
  {
   "cell_type": "code",
   "execution_count": 69,
   "id": "3d6178fb",
   "metadata": {},
   "outputs": [
    {
     "name": "stdout",
     "output_type": "stream",
     "text": [
      "count    5.000000\n",
      "mean     0.651128\n",
      "std      0.045363\n",
      "min      0.578302\n",
      "25%      0.637529\n",
      "50%      0.670280\n",
      "75%      0.677245\n",
      "max      0.692283\n",
      "Name: val_accuracy, dtype: float64\n"
     ]
    }
   ],
   "source": [
    "print(train_hist[\"val_accuracy\"].describe())"
   ]
  },
  {
   "cell_type": "code",
   "execution_count": null,
   "id": "5b628324",
   "metadata": {},
   "outputs": [],
   "source": []
  },
  {
   "cell_type": "code",
   "execution_count": 41,
   "id": "f0ec86b7",
   "metadata": {},
   "outputs": [],
   "source": [
    "## Save clean_df to csv file\n",
    "#clean_df.to_csv('clean_df.csv', index=False)\n",
    "movie_predict = pd.read_csv('Movie_df_model.csv')"
   ]
  },
  {
   "cell_type": "code",
   "execution_count": 42,
   "id": "df6b9d8c",
   "metadata": {},
   "outputs": [
    {
     "data": {
      "text/html": [
       "<div>\n",
       "<style scoped>\n",
       "    .dataframe tbody tr th:only-of-type {\n",
       "        vertical-align: middle;\n",
       "    }\n",
       "\n",
       "    .dataframe tbody tr th {\n",
       "        vertical-align: top;\n",
       "    }\n",
       "\n",
       "    .dataframe thead th {\n",
       "        text-align: right;\n",
       "    }\n",
       "</style>\n",
       "<table border=\"1\" class=\"dataframe\">\n",
       "  <thead>\n",
       "    <tr style=\"text-align: right;\">\n",
       "      <th></th>\n",
       "      <th>id</th>\n",
       "      <th>text</th>\n",
       "      <th>speaker</th>\n",
       "      <th>reply_to</th>\n",
       "      <th>conversation_id</th>\n",
       "      <th>meta.movie_id</th>\n",
       "      <th>text_movie_token</th>\n",
       "      <th>clean_text</th>\n",
       "    </tr>\n",
       "  </thead>\n",
       "  <tbody>\n",
       "    <tr>\n",
       "      <th>0</th>\n",
       "      <td>L1045</td>\n",
       "      <td>They do not!</td>\n",
       "      <td>u0</td>\n",
       "      <td>L1044</td>\n",
       "      <td>L1044</td>\n",
       "      <td>m0</td>\n",
       "      <td>[]</td>\n",
       "      <td>they do not</td>\n",
       "    </tr>\n",
       "    <tr>\n",
       "      <th>1</th>\n",
       "      <td>L1044</td>\n",
       "      <td>They do to!</td>\n",
       "      <td>u2</td>\n",
       "      <td>NaN</td>\n",
       "      <td>L1044</td>\n",
       "      <td>m0</td>\n",
       "      <td>[]</td>\n",
       "      <td>they do to</td>\n",
       "    </tr>\n",
       "    <tr>\n",
       "      <th>2</th>\n",
       "      <td>L985</td>\n",
       "      <td>I hope so.</td>\n",
       "      <td>u0</td>\n",
       "      <td>L984</td>\n",
       "      <td>L984</td>\n",
       "      <td>m0</td>\n",
       "      <td>['hope']</td>\n",
       "      <td>i hope so</td>\n",
       "    </tr>\n",
       "    <tr>\n",
       "      <th>3</th>\n",
       "      <td>L984</td>\n",
       "      <td>She okay?</td>\n",
       "      <td>u2</td>\n",
       "      <td>NaN</td>\n",
       "      <td>L984</td>\n",
       "      <td>m0</td>\n",
       "      <td>['okay']</td>\n",
       "      <td>she okay</td>\n",
       "    </tr>\n",
       "    <tr>\n",
       "      <th>4</th>\n",
       "      <td>L925</td>\n",
       "      <td>Let's go.</td>\n",
       "      <td>u0</td>\n",
       "      <td>L924</td>\n",
       "      <td>L924</td>\n",
       "      <td>m0</td>\n",
       "      <td>['let', 'go']</td>\n",
       "      <td>let s go</td>\n",
       "    </tr>\n",
       "    <tr>\n",
       "      <th>...</th>\n",
       "      <td>...</td>\n",
       "      <td>...</td>\n",
       "      <td>...</td>\n",
       "      <td>...</td>\n",
       "      <td>...</td>\n",
       "      <td>...</td>\n",
       "      <td>...</td>\n",
       "      <td>...</td>\n",
       "    </tr>\n",
       "    <tr>\n",
       "      <th>304708</th>\n",
       "      <td>L666371</td>\n",
       "      <td>Lord Chelmsford seems to want me to stay back ...</td>\n",
       "      <td>u9030</td>\n",
       "      <td>L666370</td>\n",
       "      <td>L666369</td>\n",
       "      <td>m616</td>\n",
       "      <td>['lord', 'chelmsford', 'seems', 'want', 'stay'...</td>\n",
       "      <td>lord chelmsford seems to want me to stay back ...</td>\n",
       "    </tr>\n",
       "    <tr>\n",
       "      <th>304709</th>\n",
       "      <td>L666370</td>\n",
       "      <td>I'm to take the Sikali with the main column to...</td>\n",
       "      <td>u9034</td>\n",
       "      <td>L666369</td>\n",
       "      <td>L666369</td>\n",
       "      <td>m616</td>\n",
       "      <td>['im', 'take', 'sikali', 'main', 'column', 'ri...</td>\n",
       "      <td>i m to take the sikali with the main column to...</td>\n",
       "    </tr>\n",
       "    <tr>\n",
       "      <th>304710</th>\n",
       "      <td>L666369</td>\n",
       "      <td>Your orders, Mr Vereker?</td>\n",
       "      <td>u9030</td>\n",
       "      <td>NaN</td>\n",
       "      <td>L666369</td>\n",
       "      <td>m616</td>\n",
       "      <td>['order', 'mr', 'vereker']</td>\n",
       "      <td>your orders  mr vereker</td>\n",
       "    </tr>\n",
       "    <tr>\n",
       "      <th>304711</th>\n",
       "      <td>L666257</td>\n",
       "      <td>Good ones, yes, Mr Vereker. Gentlemen who can ...</td>\n",
       "      <td>u9030</td>\n",
       "      <td>L666256</td>\n",
       "      <td>L666256</td>\n",
       "      <td>m616</td>\n",
       "      <td>['good', 'one', 'yes', 'mr', 'vereker', 'gentl...</td>\n",
       "      <td>good ones  yes  mr vereker  gentlemen who can ...</td>\n",
       "    </tr>\n",
       "    <tr>\n",
       "      <th>304712</th>\n",
       "      <td>L666256</td>\n",
       "      <td>Colonel Durnford... William Vereker. I hear yo...</td>\n",
       "      <td>u9034</td>\n",
       "      <td>NaN</td>\n",
       "      <td>L666256</td>\n",
       "      <td>m616</td>\n",
       "      <td>['colonel', 'durnford', 'william', 'vereker', ...</td>\n",
       "      <td>colonel durnford    william vereker  i hear yo...</td>\n",
       "    </tr>\n",
       "  </tbody>\n",
       "</table>\n",
       "<p>304713 rows × 8 columns</p>\n",
       "</div>"
      ],
      "text/plain": [
       "             id                                               text speaker  \\\n",
       "0         L1045                                       They do not!      u0   \n",
       "1         L1044                                        They do to!      u2   \n",
       "2          L985                                         I hope so.      u0   \n",
       "3          L984                                          She okay?      u2   \n",
       "4          L925                                          Let's go.      u0   \n",
       "...         ...                                                ...     ...   \n",
       "304708  L666371  Lord Chelmsford seems to want me to stay back ...   u9030   \n",
       "304709  L666370  I'm to take the Sikali with the main column to...   u9034   \n",
       "304710  L666369                           Your orders, Mr Vereker?   u9030   \n",
       "304711  L666257  Good ones, yes, Mr Vereker. Gentlemen who can ...   u9030   \n",
       "304712  L666256  Colonel Durnford... William Vereker. I hear yo...   u9034   \n",
       "\n",
       "       reply_to conversation_id meta.movie_id  \\\n",
       "0         L1044           L1044            m0   \n",
       "1           NaN           L1044            m0   \n",
       "2          L984            L984            m0   \n",
       "3           NaN            L984            m0   \n",
       "4          L924            L924            m0   \n",
       "...         ...             ...           ...   \n",
       "304708  L666370         L666369          m616   \n",
       "304709  L666369         L666369          m616   \n",
       "304710      NaN         L666369          m616   \n",
       "304711  L666256         L666256          m616   \n",
       "304712      NaN         L666256          m616   \n",
       "\n",
       "                                         text_movie_token  \\\n",
       "0                                                      []   \n",
       "1                                                      []   \n",
       "2                                                ['hope']   \n",
       "3                                                ['okay']   \n",
       "4                                           ['let', 'go']   \n",
       "...                                                   ...   \n",
       "304708  ['lord', 'chelmsford', 'seems', 'want', 'stay'...   \n",
       "304709  ['im', 'take', 'sikali', 'main', 'column', 'ri...   \n",
       "304710                         ['order', 'mr', 'vereker']   \n",
       "304711  ['good', 'one', 'yes', 'mr', 'vereker', 'gentl...   \n",
       "304712  ['colonel', 'durnford', 'william', 'vereker', ...   \n",
       "\n",
       "                                               clean_text  \n",
       "0                                            they do not   \n",
       "1                                             they do to   \n",
       "2                                              i hope so   \n",
       "3                                               she okay   \n",
       "4                                               let s go   \n",
       "...                                                   ...  \n",
       "304708  lord chelmsford seems to want me to stay back ...  \n",
       "304709  i m to take the sikali with the main column to...  \n",
       "304710                           your orders  mr vereker   \n",
       "304711  good ones  yes  mr vereker  gentlemen who can ...  \n",
       "304712  colonel durnford    william vereker  i hear yo...  \n",
       "\n",
       "[304713 rows x 8 columns]"
      ]
     },
     "execution_count": 42,
     "metadata": {},
     "output_type": "execute_result"
    }
   ],
   "source": [
    "movie_predict"
   ]
  },
  {
   "cell_type": "code",
   "execution_count": 43,
   "id": "a16e11ec",
   "metadata": {},
   "outputs": [
    {
     "name": "stdout",
     "output_type": "stream",
     "text": [
      "<class 'pandas.core.frame.DataFrame'>\n",
      "RangeIndex: 304713 entries, 0 to 304712\n",
      "Data columns (total 8 columns):\n",
      " #   Column            Non-Null Count   Dtype \n",
      "---  ------            --------------   ----- \n",
      " 0   id                304713 non-null  object\n",
      " 1   text              304446 non-null  object\n",
      " 2   speaker           304713 non-null  object\n",
      " 3   reply_to          221616 non-null  object\n",
      " 4   conversation_id   304713 non-null  object\n",
      " 5   meta.movie_id     304713 non-null  object\n",
      " 6   text_movie_token  304713 non-null  object\n",
      " 7   clean_text        304446 non-null  object\n",
      "dtypes: object(8)\n",
      "memory usage: 18.6+ MB\n"
     ]
    }
   ],
   "source": [
    "movie_predict.info()"
   ]
  },
  {
   "cell_type": "code",
   "execution_count": 44,
   "id": "14d81e15",
   "metadata": {},
   "outputs": [
    {
     "data": {
      "text/plain": [
       "id                      0\n",
       "text                  267\n",
       "speaker                 0\n",
       "reply_to            83097\n",
       "conversation_id         0\n",
       "meta.movie_id           0\n",
       "text_movie_token        0\n",
       "clean_text            267\n",
       "dtype: int64"
      ]
     },
     "execution_count": 44,
     "metadata": {},
     "output_type": "execute_result"
    }
   ],
   "source": [
    "movie_predict.isnull().sum()"
   ]
  },
  {
   "cell_type": "code",
   "execution_count": 45,
   "id": "158223d2",
   "metadata": {},
   "outputs": [],
   "source": [
    "movie_predict2 = movie_predict[movie_predict['text'].notna()]"
   ]
  },
  {
   "cell_type": "code",
   "execution_count": 57,
   "id": "4178f911",
   "metadata": {},
   "outputs": [
    {
     "data": {
      "text/plain": [
       "id                      0\n",
       "text                    0\n",
       "speaker                 0\n",
       "reply_to            83032\n",
       "conversation_id         0\n",
       "meta.movie_id           0\n",
       "text_movie_token        0\n",
       "clean_text              0\n",
       "dtype: int64"
      ]
     },
     "execution_count": 57,
     "metadata": {},
     "output_type": "execute_result"
    }
   ],
   "source": [
    "movie_predict2.isnull().sum()"
   ]
  },
  {
   "cell_type": "code",
   "execution_count": 56,
   "id": "7b21eb27",
   "metadata": {},
   "outputs": [
    {
     "name": "stdout",
     "output_type": "stream",
     "text": [
      "Predicted sentiment :  [12  1 10 ...  5 11  8]\n"
     ]
    }
   ],
   "source": [
    "\n",
    "print(\"Predicted sentiment : \",classes_x)"
   ]
  },
  {
   "cell_type": "code",
   "execution_count": null,
   "id": "95f08dc7",
   "metadata": {},
   "outputs": [],
   "source": []
  }
 ],
 "metadata": {
  "kernelspec": {
   "display_name": "Python 3 (ipykernel)",
   "language": "python",
   "name": "python3"
  },
  "language_info": {
   "codemirror_mode": {
    "name": "ipython",
    "version": 3
   },
   "file_extension": ".py",
   "mimetype": "text/x-python",
   "name": "python",
   "nbconvert_exporter": "python",
   "pygments_lexer": "ipython3",
   "version": "3.10.9"
  }
 },
 "nbformat": 4,
 "nbformat_minor": 5
}
